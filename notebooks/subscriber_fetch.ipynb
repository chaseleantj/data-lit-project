{
 "cells": [
  {
   "cell_type": "code",
   "execution_count": 7,
   "metadata": {},
   "outputs": [
    {
     "data": {
      "text/plain": [
       "True"
      ]
     },
     "execution_count": 7,
     "metadata": {},
     "output_type": "execute_result"
    }
   ],
   "source": [
    "# Imports\n",
    "import glob\n",
    "import matplotlib.pyplot as plt\n",
    "import numpy as np\n",
    "import pandas as pd\n",
    "import dotenv\n",
    "import os\n",
    "from youtube.youtube_api import YouTubeAPI\n",
    "\n",
    "dotenv.load_dotenv()"
   ]
  },
  {
   "cell_type": "code",
   "execution_count": 34,
   "metadata": {},
   "outputs": [
    {
     "name": "stdout",
     "output_type": "stream",
     "text": [
      "Total number of unique results: 6209\n",
      "Total number of unique results: 6209\n"
     ]
    },
    {
     "name": "stderr",
     "output_type": "stream",
     "text": [
      "/var/folders/t6/1js9d93j74j2gtm_nxbqkw380000gn/T/ipykernel_95400/855918570.py:17: FutureWarning: Setting an item of incompatible dtype is deprecated and will raise in a future error of pandas. Value '193' has dtype incompatible with float64, please explicitly cast to a compatible dtype first.\n",
      "  df.loc[df[\"channelTitle\"] == row[\"title\"], \"subscriberCount\"] = row[\"subscriberCount\"]\n"
     ]
    },
    {
     "name": "stdout",
     "output_type": "stream",
     "text": [
      "results saved to ./data/processed_dataset/processed_people-and-blogs.csv\n"
     ]
    }
   ],
   "source": [
    "dataset = \"processed_people-and-blogs\"\n",
    "filename = f\"./data/processed_dataset/{dataset}.csv\"\n",
    "output_path = filename\n",
    "\n",
    "\n",
    "df = pd.read_csv(filename)\n",
    "filtered_df = df.copy(deep=True)\n",
    "filtered_df = filtered_df[filtered_df[\"subscriberCount\"].isna()]\n",
    "filtered_df = filtered_df.drop_duplicates(subset='channelTitle', keep='first')\n",
    "\n",
    "\n",
    "client = YouTubeAPI(api_key=os.getenv('GOOGLE_API_KEY'))\n",
    "result_df = client.get_video_details(list(filtered_df[\"video_id\"]))\n",
    "result_df = client.get_channel_details(result_df[\"channelId\"])\n",
    "\n",
    "for index, row in result_df.iterrows():\n",
    "    df.loc[df[\"channelTitle\"] == row[\"title\"], \"subscriberCount\"] = row[\"subscriberCount\"]\n",
    "df.to_csv(output_path)\n",
    "\n",
    "print(\"results saved to\", output_path)\n"
   ]
  },
  {
   "cell_type": "code",
   "execution_count": 35,
   "metadata": {},
   "outputs": [
    {
     "name": "stdout",
     "output_type": "stream",
     "text": [
      "203\n"
     ]
    }
   ],
   "source": [
    "dataset = \"processed_people-and-blogs\"\n",
    "filename = f\"./data/processed_dataset/{dataset}.csv\"\n",
    "df = pd.read_csv(filename)\n",
    "print(df['subscriberCount'].isna().sum())"
   ]
  },
  {
   "cell_type": "code",
   "execution_count": null,
   "metadata": {},
   "outputs": [],
   "source": []
  }
 ],
 "metadata": {
  "kernelspec": {
   "display_name": "Python 3",
   "language": "python",
   "name": "python3"
  },
  "language_info": {
   "codemirror_mode": {
    "name": "ipython",
    "version": 3
   },
   "file_extension": ".py",
   "mimetype": "text/x-python",
   "name": "python",
   "nbconvert_exporter": "python",
   "pygments_lexer": "ipython3",
   "version": "3.11.8"
  }
 },
 "nbformat": 4,
 "nbformat_minor": 2
}
